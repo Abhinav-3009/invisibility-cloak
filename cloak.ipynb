{
 "cells": [
  {
   "cell_type": "code",
   "execution_count": 1,
   "metadata": {},
   "outputs": [],
   "source": [
    "import cv2\n",
    "import numpy as np\n",
    "\n",
    "#capturing using webcam\n",
    "cap=cv2.VideoCapture(0)\n",
    "background=cv2.imread('./image.jpg')\n",
    "while(cap.isOpened()):\n",
    "    #taking each frame\n",
    "    ret,frame=cap.read()\n",
    "    if(ret):\n",
    "        #converting RGB to HSV\n",
    "        hsv =  cv2.cvtColor(frame,cv2.COLOR_BGR2HSV)\n",
    "        #cv2.imshow(\"hsv\",hsv)\n",
    "        #getting hsv value\n",
    "        #lower: hue-10,100,100 higher: hue+10,255,255\n",
    "        red=np.uint8([[[0,0,255]]])#getting bgr value of red\n",
    "        hsv_red=cv2.cvtColor(red,cv2.COLOR_BGR2HSV) #getting hsv calue of red from bgr\n",
    "        #threshold  the hsv value to get only red color\n",
    "        lower_red=np.array([0,100,100])\n",
    "        upper_red=np.array([10,255,255])\n",
    "        mask=cv2.inRange(hsv,lower_red,upper_red)\n",
    "        #cv2.imshow(\"mask\",mask)\n",
    "        part1=cv2.bitwise_and(background,background,mask=mask)\n",
    "        #cv2.imshow(\"part1\",part1)\n",
    "        mask=cv2.bitwise_not(mask)\n",
    "        part2=cv2.bitwise_and(frame,frame,mask=mask)\n",
    "        #cv2.imshow(\"mask\",part2)\n",
    "        cv2.imshow(\"cloak\",part1+part2)\n",
    "        if(cv2.waitKey(5)==ord('q')):\n",
    "            break\n",
    "cap.release()\n",
    "cv2.destroyAllWindows()"
   ]
  },
  {
   "cell_type": "code",
   "execution_count": null,
   "metadata": {},
   "outputs": [],
   "source": []
  },
  {
   "cell_type": "code",
   "execution_count": null,
   "metadata": {},
   "outputs": [],
   "source": []
  }
 ],
 "metadata": {
  "kernelspec": {
   "display_name": "Python 3",
   "language": "python",
   "name": "python3"
  },
  "language_info": {
   "codemirror_mode": {
    "name": "ipython",
    "version": 3
   },
   "file_extension": ".py",
   "mimetype": "text/x-python",
   "name": "python",
   "nbconvert_exporter": "python",
   "pygments_lexer": "ipython3",
   "version": "3.8.3"
  }
 },
 "nbformat": 4,
 "nbformat_minor": 4
}
