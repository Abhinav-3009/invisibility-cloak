{
 "cells": [
  {
   "cell_type": "code",
   "execution_count": 1,
   "metadata": {},
   "outputs": [],
   "source": [
    "import cv2\n",
    "#captuing from webcam\n",
    "cap=cv2.VideoCapture(0)\n",
    "while(cap.isOpened()):\n",
    "    #reading from webcam\n",
    "    ret,frame=cap.read()\n",
    "    if(ret==True):\n",
    "        #showing the image\n",
    "        cv2.imshow(\"image\",frame)\n",
    "        #if q is pressed\n",
    "        if cv2.waitKey(5)==ord('q'):\n",
    "            #save the image\n",
    "            cv2.imwrite('image.jpg',frame)\n",
    "            break\n",
    "            \n",
    "            \n",
    "#to release the webcam        \n",
    "cap.release()\n",
    "cv2.destroyAllWindows()\n",
    "    "
   ]
  },
  {
   "cell_type": "code",
   "execution_count": null,
   "metadata": {},
   "outputs": [],
   "source": []
  },
  {
   "cell_type": "code",
   "execution_count": null,
   "metadata": {},
   "outputs": [],
   "source": []
  }
 ],
 "metadata": {
  "kernelspec": {
   "display_name": "Python 3",
   "language": "python",
   "name": "python3"
  },
  "language_info": {
   "codemirror_mode": {
    "name": "ipython",
    "version": 3
   },
   "file_extension": ".py",
   "mimetype": "text/x-python",
   "name": "python",
   "nbconvert_exporter": "python",
   "pygments_lexer": "ipython3",
   "version": "3.8.3"
  }
 },
 "nbformat": 4,
 "nbformat_minor": 4
}
